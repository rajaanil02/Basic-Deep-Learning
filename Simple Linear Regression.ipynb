{
 "cells": [
  {
   "cell_type": "code",
   "execution_count": 1,
   "metadata": {},
   "outputs": [],
   "source": [
    "import numpy as np\n",
    "import pandas as pd\n",
    "import matplotlib.pyplot as plt\n",
    "import tensorflow as tf"
   ]
  },
  {
   "cell_type": "code",
   "execution_count": 2,
   "metadata": {},
   "outputs": [],
   "source": [
    "w_true = 2\n",
    "b_true = 0.5"
   ]
  },
  {
   "cell_type": "code",
   "execution_count": 3,
   "metadata": {},
   "outputs": [],
   "source": [
    "x = np.linspace(0,3,130)"
   ]
  },
  {
   "cell_type": "code",
   "execution_count": 4,
   "metadata": {},
   "outputs": [],
   "source": [
    "y = w_true * x + b_true + np.random.randn(*x.shape) * 0.5"
   ]
  },
  {
   "cell_type": "code",
   "execution_count": 5,
   "metadata": {},
   "outputs": [
    {
     "data": {
      "image/png": "[encoded data removed]",
      "text/plain": [
       "<Figure size 720x576 with 1 Axes>"
      ]
     },
     "metadata": {
      "needs_background": "light"
     },
     "output_type": "display_data"
    }
   ],
   "source": [
    "plt.figure(figsize = (10,8))\n",
    "plt.scatter(x,y)\n",
    "plt.xlabel('x')\n",
    "plt.ylabel('y')\n",
    "plt.title('Training Data')\n",
    "plt.show()"
   ]
  },
  {
   "cell_type": "code",
   "execution_count": 17,
   "metadata": {},
   "outputs": [],
   "source": [
    "class LinearModel:\n",
    "    \n",
    "    def __init__(self):\n",
    "        self.weight = tf.Variable(np.random.randn(),name = 'w')\n",
    "        self.bias = tf.Variable(np.random.randn(),name = 'b')\n",
    "        \n",
    "    def __call__(self,x):\n",
    "        return self.weight*x + self.bias\n",
    "    "
   ]
  },
  {
   "cell_type": "code",
   "execution_count": 18,
   "metadata": {},
   "outputs": [],
   "source": [
    "def loss(y,y_pred):\n",
    "    return tf.reduce_mean(tf.square(y - y_pred))"
   ]
  },
  {
   "cell_type": "code",
   "execution_count": 22,
   "metadata": {},
   "outputs": [],
   "source": [
    "def train(linear_model, x , y ,lr = 0.01):\n",
    "    with tf.GradientTape() as tape:\n",
    "        \n",
    "        y_pred = linear_model(x)\n",
    "        \n",
    "        current_loss = loss(y,y_pred)\n",
    "\n",
    "    d_weight,d_bias = tape.gradient(current_loss,[linear_model.weight,linear_model.bias]) \n",
    "    \n",
    "    linear_model.weight.assign_sub(lr * d_weight)\n",
    "\n",
    "    linear_model.bias.assign_sub(lr * d_bias)"
   ]
  },
  {
   "cell_type": "code",
   "execution_count": 37,
   "metadata": {},
   "outputs": [],
   "source": [
    "linear_model = LinearModel()\n",
    "\n",
    "weights,biases = [],[]\n",
    "\n",
    "epochs = 100\n",
    "\n",
    "lr = 0.15"
   ]
  },
  {
   "cell_type": "code",
   "execution_count": 38,
   "metadata": {},
   "outputs": [
    {
     "name": "stdout",
     "output_type": "stream",
     "text": [
      "Epoch Count 0: loss value: 7.065597057342529\n",
      "Epoch Count 1: loss value: 0.7016088962554932\n",
      "Epoch Count 2: loss value: 0.5371600985527039\n",
      "Epoch Count 3: loss value: 0.5043303966522217\n",
      "Epoch Count 4: loss value: 0.4776366353034973\n",
      "Epoch Count 5: loss value: 0.45409485697746277\n",
      "Epoch Count 6: loss value: 0.4332917630672455\n",
      "Epoch Count 7: loss value: 0.414907842874527\n",
      "Epoch Count 8: loss value: 0.3986618220806122\n",
      "Epoch Count 9: loss value: 0.3843051493167877\n",
      "Epoch Count 10: loss value: 0.37161797285079956\n",
      "Epoch Count 11: loss value: 0.36040619015693665\n",
      "Epoch Count 12: loss value: 0.3504983186721802\n",
      "Epoch Count 13: loss value: 0.3417425751686096\n",
      "Epoch Count 14: loss value: 0.33400505781173706\n",
      "Epoch Count 15: loss value: 0.3271673619747162\n",
      "Epoch Count 16: loss value: 0.32112476229667664\n",
      "Epoch Count 17: loss value: 0.31578490138053894\n",
      "Epoch Count 18: loss value: 0.31106603145599365\n",
      "Epoch Count 19: loss value: 0.3068958520889282\n",
      "Epoch Count 20: loss value: 0.30321070551872253\n",
      "Epoch Count 21: loss value: 0.2999541461467743\n",
      "Epoch Count 22: loss value: 0.29707619547843933\n",
      "Epoch Count 23: loss value: 0.29453301429748535\n",
      "Epoch Count 24: loss value: 0.2922854721546173\n",
      "Epoch Count 25: loss value: 0.2902994155883789\n",
      "Epoch Count 26: loss value: 0.28854426741600037\n",
      "Epoch Count 27: loss value: 0.28699320554733276\n",
      "Epoch Count 28: loss value: 0.28562259674072266\n",
      "Epoch Count 29: loss value: 0.2844112813472748\n",
      "Epoch Count 30: loss value: 0.2833409011363983\n",
      "Epoch Count 31: loss value: 0.2823949456214905\n",
      "Epoch Count 32: loss value: 0.2815590500831604\n",
      "Epoch Count 33: loss value: 0.2808203101158142\n",
      "Epoch Count 34: loss value: 0.28016752004623413\n",
      "Epoch Count 35: loss value: 0.2795906066894531\n",
      "Epoch Count 36: loss value: 0.2790808081626892\n",
      "Epoch Count 37: loss value: 0.27863025665283203\n",
      "Epoch Count 38: loss value: 0.2782321572303772\n",
      "Epoch Count 39: loss value: 0.27788034081459045\n",
      "Epoch Count 40: loss value: 0.277569442987442\n",
      "Epoch Count 41: loss value: 0.2772946357727051\n",
      "Epoch Count 42: loss value: 0.27705180644989014\n",
      "Epoch Count 43: loss value: 0.2768372893333435\n",
      "Epoch Count 44: loss value: 0.2766476273536682\n",
      "Epoch Count 45: loss value: 0.2764800786972046\n",
      "Epoch Count 46: loss value: 0.27633199095726013\n",
      "Epoch Count 47: loss value: 0.27620112895965576\n",
      "Epoch Count 48: loss value: 0.2760854959487915\n",
      "Epoch Count 49: loss value: 0.2759832739830017\n",
      "Epoch Count 50: loss value: 0.2758930027484894\n",
      "Epoch Count 51: loss value: 0.27581316232681274\n",
      "Epoch Count 52: loss value: 0.27574262022972107\n",
      "Epoch Count 53: loss value: 0.2756803333759308\n",
      "Epoch Count 54: loss value: 0.27562522888183594\n",
      "Epoch Count 55: loss value: 0.2755765914916992\n",
      "Epoch Count 56: loss value: 0.2755335867404938\n",
      "Epoch Count 57: loss value: 0.2754955589771271\n",
      "Epoch Count 58: loss value: 0.27546200156211853\n",
      "Epoch Count 59: loss value: 0.275432288646698\n",
      "Epoch Count 60: loss value: 0.27540600299835205\n",
      "Epoch Count 61: loss value: 0.2753828763961792\n",
      "Epoch Count 62: loss value: 0.27536237239837646\n",
      "Epoch Count 63: loss value: 0.27534428238868713\n",
      "Epoch Count 64: loss value: 0.27532830834388733\n",
      "Epoch Count 65: loss value: 0.2753141224384308\n",
      "Epoch Count 66: loss value: 0.27530166506767273\n",
      "Epoch Count 67: loss value: 0.2752906084060669\n",
      "Epoch Count 68: loss value: 0.2752808630466461\n",
      "Epoch Count 69: loss value: 0.2752722501754761\n",
      "Epoch Count 70: loss value: 0.2752646207809448\n",
      "Epoch Count 71: loss value: 0.2752578854560852\n",
      "Epoch Count 72: loss value: 0.27525195479393005\n",
      "Epoch Count 73: loss value: 0.27524664998054504\n",
      "Epoch Count 74: loss value: 0.27524200081825256\n",
      "Epoch Count 75: loss value: 0.27523791790008545\n",
      "Epoch Count 76: loss value: 0.27523428201675415\n",
      "Epoch Count 77: loss value: 0.27523112297058105\n",
      "Epoch Count 78: loss value: 0.27522823214530945\n",
      "Epoch Count 79: loss value: 0.2752257287502289\n",
      "Epoch Count 80: loss value: 0.2752235531806946\n",
      "Epoch Count 81: loss value: 0.2752216160297394\n",
      "Epoch Count 82: loss value: 0.2752198576927185\n",
      "Epoch Count 83: loss value: 0.27521830797195435\n",
      "Epoch Count 84: loss value: 0.2752169966697693\n",
      "Epoch Count 85: loss value: 0.27521583437919617\n",
      "Epoch Count 86: loss value: 0.2752147614955902\n",
      "Epoch Count 87: loss value: 0.2752138078212738\n",
      "Epoch Count 88: loss value: 0.27521297335624695\n",
      "Epoch Count 89: loss value: 0.27521225810050964\n",
      "Epoch Count 90: loss value: 0.2752116024494171\n",
      "Epoch Count 91: loss value: 0.27521103620529175\n",
      "Epoch Count 92: loss value: 0.27521049976348877\n",
      "Epoch Count 93: loss value: 0.27521011233329773\n",
      "Epoch Count 94: loss value: 0.2752097249031067\n",
      "Epoch Count 95: loss value: 0.27520936727523804\n",
      "Epoch Count 96: loss value: 0.2752090394496918\n",
      "Epoch Count 97: loss value: 0.2752087712287903\n",
      "Epoch Count 98: loss value: 0.2752085328102112\n",
      "Epoch Count 99: loss value: 0.27520832419395447\n"
     ]
    }
   ],
   "source": [
    "for epoch_count in range(epochs):\n",
    "    weights.append(linear_model.weight.numpy())\n",
    "    biases.append(linear_model.bias.numpy())\n",
    "    \n",
    "    real_loss = loss(y, linear_model(x))\n",
    "    \n",
    "    train(linear_model, x , y , lr = lr)\n",
    "    \n",
    "    print(f\"Epoch Count {epoch_count}: loss value: {real_loss.numpy()}\")"
   ]
  },
  {
   "cell_type": "code",
   "execution_count": 39,
   "metadata": {},
   "outputs": [
    {
     "data": {
      "text/plain": [
       "<matplotlib.legend.Legend at 0x21b41b1fc70>"
      ]
     },
     "execution_count": 39,
     "metadata": {},
     "output_type": "execute_result"
    },
    {
     "data": {
      "image/png": "[encoded data removed]",
      "text/plain": [
       "<Figure size 720x576 with 1 Axes>"
      ]
     },
     "metadata": {
      "needs_background": "light"
     },
     "output_type": "display_data"
    }
   ],
   "source": [
    "plt.figure(figsize = (10,8))\n",
    "\n",
    "plt.plot(range(epochs),weights, 'r', range(epochs) , biases , 'b')\n",
    "plt.plot([w_true] * epochs, 'r--', [b_true] * epochs, 'b--')\n",
    "plt.legend(['w','b','true w','true b'])"
   ]
  },
  {
   "cell_type": "code",
   "execution_count": 40,
   "metadata": {},
   "outputs": [
    {
     "data": {
      "text/plain": [
       "(1.9906998, 0.5947234)"
      ]
     },
     "execution_count": 40,
     "metadata": {},
     "output_type": "execute_result"
    }
   ],
   "source": [
    "linear_model.weight.numpy(),linear_model.bias.numpy()"
   ]
  },
  {
   "cell_type": "code",
   "execution_count": 41,
   "metadata": {},
   "outputs": [
    {
     "data": {
      "text/plain": [
       "0.27520815"
      ]
     },
     "execution_count": 41,
     "metadata": {},
     "output_type": "execute_result"
    }
   ],
   "source": [
    "rmse = loss(y,linear_model(x))\n",
    "rmse.numpy()"
   ]
  },
  {
   "cell_type": "code",
   "execution_count": 42,
   "metadata": {},
   "outputs": [
    {
     "data": {
      "image/png": "[encoded data removed]",
      "text/plain": [
       "<Figure size 720x576 with 1 Axes>"
      ]
     },
     "metadata": {
      "needs_background": "light"
     },
     "output_type": "display_data"
    }
   ],
   "source": [
    "plt.figure(figsize = (10,8))\n",
    "\n",
    "plt.plot(x,y, 'ro', label = 'Original Data')\n",
    "plt.plot(x,linear_model(x),label = 'Fitted Line')\n",
    "\n",
    "plt.title(\"Linear Regression\")\n",
    "\n",
    "plt.legend()\n",
    "plt.show()"
   ]
  },
  {
   "cell_type": "markdown",
   "metadata": {},
   "source": [
    "* The above Process we can do easily by using tensorflow keras library"
   ]
  },
  {
   "cell_type": "code",
   "execution_count": 43,
   "metadata": {},
   "outputs": [],
   "source": [
    "from tensorflow import keras\n",
    "from tensorflow.keras import layers"
   ]
  },
  {
   "cell_type": "code",
   "execution_count": 44,
   "metadata": {},
   "outputs": [
    {
     "data": {
      "text/plain": [
       "((130,), (130,))"
      ]
     },
     "execution_count": 44,
     "metadata": {},
     "output_type": "execute_result"
    }
   ],
   "source": [
    "x.shape,y.shape"
   ]
  },
  {
   "cell_type": "code",
   "execution_count": 45,
   "metadata": {},
   "outputs": [],
   "source": [
    "x = pd.DataFrame(x, columns = ['x'])\n",
    "y = pd.DataFrame(y, columns = ['y'])"
   ]
  },
  {
   "cell_type": "code",
   "execution_count": 46,
   "metadata": {},
   "outputs": [
    {
     "data": {
      "text/html": [
       "<div>\n",
       "<style scoped>\n",
       "    .dataframe tbody tr th:only-of-type {\n",
       "        vertical-align: middle;\n",
       "    }\n",
       "\n",
       "    .dataframe tbody tr th {\n",
       "        vertical-align: top;\n",
       "    }\n",
       "\n",
       "    .dataframe thead th {\n",
       "        text-align: right;\n",
       "    }\n",
       "</style>\n",
       "<table border=\"1\" class=\"dataframe\">\n",
       "  <thead>\n",
       "    <tr style=\"text-align: right;\">\n",
       "      <th></th>\n",
       "      <th>x</th>\n",
       "    </tr>\n",
       "  </thead>\n",
       "  <tbody>\n",
       "    <tr>\n",
       "      <th>0</th>\n",
       "      <td>0.000000</td>\n",
       "    </tr>\n",
       "    <tr>\n",
       "      <th>1</th>\n",
       "      <td>0.023256</td>\n",
       "    </tr>\n",
       "    <tr>\n",
       "      <th>2</th>\n",
       "      <td>0.046512</td>\n",
       "    </tr>\n",
       "    <tr>\n",
       "      <th>3</th>\n",
       "      <td>0.069767</td>\n",
       "    </tr>\n",
       "    <tr>\n",
       "      <th>4</th>\n",
       "      <td>0.093023</td>\n",
       "    </tr>\n",
       "  </tbody>\n",
       "</table>\n",
       "</div>"
      ],
      "text/plain": [
       "          x\n",
       "0  0.000000\n",
       "1  0.023256\n",
       "2  0.046512\n",
       "3  0.069767\n",
       "4  0.093023"
      ]
     },
     "execution_count": 46,
     "metadata": {},
     "output_type": "execute_result"
    }
   ],
   "source": [
    "x.head()"
   ]
  },
  {
   "cell_type": "code",
   "execution_count": 47,
   "metadata": {},
   "outputs": [
    {
     "data": {
      "text/html": [
       "<div>\n",
       "<style scoped>\n",
       "    .dataframe tbody tr th:only-of-type {\n",
       "        vertical-align: middle;\n",
       "    }\n",
       "\n",
       "    .dataframe tbody tr th {\n",
       "        vertical-align: top;\n",
       "    }\n",
       "\n",
       "    .dataframe thead th {\n",
       "        text-align: right;\n",
       "    }\n",
       "</style>\n",
       "<table border=\"1\" class=\"dataframe\">\n",
       "  <thead>\n",
       "    <tr style=\"text-align: right;\">\n",
       "      <th></th>\n",
       "      <th>y</th>\n",
       "    </tr>\n",
       "  </thead>\n",
       "  <tbody>\n",
       "    <tr>\n",
       "      <th>0</th>\n",
       "      <td>0.981929</td>\n",
       "    </tr>\n",
       "    <tr>\n",
       "      <th>1</th>\n",
       "      <td>1.054848</td>\n",
       "    </tr>\n",
       "    <tr>\n",
       "      <th>2</th>\n",
       "      <td>0.313762</td>\n",
       "    </tr>\n",
       "    <tr>\n",
       "      <th>3</th>\n",
       "      <td>1.257037</td>\n",
       "    </tr>\n",
       "    <tr>\n",
       "      <th>4</th>\n",
       "      <td>1.350647</td>\n",
       "    </tr>\n",
       "  </tbody>\n",
       "</table>\n",
       "</div>"
      ],
      "text/plain": [
       "          y\n",
       "0  0.981929\n",
       "1  1.054848\n",
       "2  0.313762\n",
       "3  1.257037\n",
       "4  1.350647"
      ]
     },
     "execution_count": 47,
     "metadata": {},
     "output_type": "execute_result"
    }
   ],
   "source": [
    "y.head()"
   ]
  },
  {
   "cell_type": "code",
   "execution_count": 48,
   "metadata": {},
   "outputs": [
    {
     "data": {
      "text/plain": [
       "((130, 1), (130, 1))"
      ]
     },
     "execution_count": 48,
     "metadata": {},
     "output_type": "execute_result"
    }
   ],
   "source": [
    "x.shape,y.shape"
   ]
  },
  {
   "cell_type": "code",
   "execution_count": 49,
   "metadata": {},
   "outputs": [],
   "source": [
    "model = keras.Sequential([layers.Dense(1, input_shape = (1,),activation = 'linear')])\n",
    "\n",
    "optimizer = tf.keras.optimizers.SGD(learning_rate = 0.001)\n",
    "\n",
    "model.compile(loss = 'mse', metrics = ['mse'], optimizer = optimizer)"
   ]
  },
  {
   "cell_type": "code",
   "execution_count": 50,
   "metadata": {},
   "outputs": [
    {
     "name": "stdout",
     "output_type": "stream",
     "text": [
      "Epoch 1/100\n",
      "1/5 [=====>........................] - ETA: 0s - loss: 37.7711 - mse: 37.7711WARNING:tensorflow:Callbacks method `on_train_batch_end` is slow compared to the batch time (batch time: 0.0000s vs `on_train_batch_end` time: 0.0052s). Check your callbacks.\n",
      "5/5 [==============================] - 0s 2ms/step - loss: 37.2711 - mse: 37.2711\n",
      "Epoch 2/100\n",
      "5/5 [==============================] - 0s 3ms/step - loss: 34.9401 - mse: 34.9401\n",
      "Epoch 3/100\n",
      "5/5 [==============================] - 0s 3ms/step - loss: 32.1237 - mse: 32.1237\n",
      "Epoch 4/100\n",
      "5/5 [==============================] - 0s 3ms/step - loss: 29.7804 - mse: 29.7804\n",
      "Epoch 5/100\n",
      "5/5 [==============================] - 0s 1ms/step - loss: 27.9163 - mse: 27.9163\n",
      "Epoch 6/100\n",
      "5/5 [==============================] - 0s 2ms/step - loss: 25.6578 - mse: 25.6578\n",
      "Epoch 7/100\n",
      "5/5 [==============================] - 0s 2ms/step - loss: 23.6443 - mse: 23.6443\n",
      "Epoch 8/100\n",
      "5/5 [==============================] - 0s 1ms/step - loss: 22.0341 - mse: 22.0341\n",
      "Epoch 9/100\n",
      "5/5 [==============================] - 0s 2ms/step - loss: 20.5242 - mse: 20.5242\n",
      "Epoch 10/100\n",
      "5/5 [==============================] - 0s 2ms/step - loss: 19.0000 - mse: 19.0000\n",
      "Epoch 11/100\n",
      "5/5 [==============================] - 0s 3ms/step - loss: 17.6325 - mse: 17.6325\n",
      "Epoch 12/100\n",
      "5/5 [==============================] - 0s 3ms/step - loss: 16.4569 - mse: 16.4569\n",
      "Epoch 13/100\n",
      "5/5 [==============================] - 0s 3ms/step - loss: 15.2829 - mse: 15.2829\n",
      "Epoch 14/100\n",
      "5/5 [==============================] - 0s 2ms/step - loss: 14.3028 - mse: 14.3028\n",
      "Epoch 15/100\n",
      "5/5 [==============================] - 0s 2ms/step - loss: 13.4235 - mse: 13.4235\n",
      "Epoch 16/100\n",
      "5/5 [==============================] - 0s 2ms/step - loss: 12.3394 - mse: 12.3394\n",
      "Epoch 17/100\n",
      "5/5 [==============================] - 0s 2ms/step - loss: 11.5005 - mse: 11.5005\n",
      "Epoch 18/100\n",
      "5/5 [==============================] - 0s 2ms/step - loss: 10.7830 - mse: 10.7830\n",
      "Epoch 19/100\n",
      "5/5 [==============================] - 0s 2ms/step - loss: 9.9531 - mse: 9.9531\n",
      "Epoch 20/100\n",
      "5/5 [==============================] - 0s 2ms/step - loss: 9.1738 - mse: 9.1738\n",
      "Epoch 21/100\n",
      "5/5 [==============================] - 0s 3ms/step - loss: 8.5764 - mse: 8.5764\n",
      "Epoch 22/100\n",
      "5/5 [==============================] - 0s 2ms/step - loss: 7.9684 - mse: 7.9684\n",
      "Epoch 23/100\n",
      "5/5 [==============================] - 0s 2ms/step - loss: 7.5140 - mse: 7.5140\n",
      "Epoch 24/100\n",
      "5/5 [==============================] - 0s 1ms/step - loss: 7.0396 - mse: 7.0396\n",
      "Epoch 25/100\n",
      "5/5 [==============================] - 0s 3ms/step - loss: 6.6106 - mse: 6.6106\n",
      "Epoch 26/100\n",
      "5/5 [==============================] - 0s 2ms/step - loss: 6.1995 - mse: 6.1995\n",
      "Epoch 27/100\n",
      "5/5 [==============================] - 0s 2ms/step - loss: 5.7888 - mse: 5.7888\n",
      "Epoch 28/100\n",
      "5/5 [==============================] - 0s 2ms/step - loss: 5.4598 - mse: 5.4598\n",
      "Epoch 29/100\n",
      "5/5 [==============================] - 0s 1ms/step - loss: 4.9938 - mse: 4.9938\n",
      "Epoch 30/100\n",
      "5/5 [==============================] - 0s 2ms/step - loss: 4.6515 - mse: 4.6515\n",
      "Epoch 31/100\n",
      "5/5 [==============================] - 0s 2ms/step - loss: 4.3852 - mse: 4.3852\n",
      "Epoch 32/100\n",
      "5/5 [==============================] - 0s 2ms/step - loss: 4.0060 - mse: 4.0060\n",
      "Epoch 33/100\n",
      "5/5 [==============================] - 0s 2ms/step - loss: 3.7026 - mse: 3.7026\n",
      "Epoch 34/100\n",
      "5/5 [==============================] - 0s 2ms/step - loss: 3.4983 - mse: 3.4983\n",
      "Epoch 35/100\n",
      "5/5 [==============================] - 0s 2ms/step - loss: 3.2888 - mse: 3.2888\n",
      "Epoch 36/100\n",
      "5/5 [==============================] - 0s 2ms/step - loss: 3.0983 - mse: 3.0983\n",
      "Epoch 37/100\n",
      "5/5 [==============================] - 0s 1ms/step - loss: 2.8910 - mse: 2.8910\n",
      "Epoch 38/100\n",
      "5/5 [==============================] - 0s 2ms/step - loss: 2.6828 - mse: 2.6828\n",
      "Epoch 39/100\n",
      "5/5 [==============================] - 0s 2ms/step - loss: 2.5131 - mse: 2.5131\n",
      "Epoch 40/100\n",
      "5/5 [==============================] - 0s 2ms/step - loss: 2.3831 - mse: 2.3831\n",
      "Epoch 41/100\n",
      "5/5 [==============================] - 0s 2ms/step - loss: 2.2178 - mse: 2.2178\n",
      "Epoch 42/100\n",
      "5/5 [==============================] - 0s 2ms/step - loss: 2.0944 - mse: 2.0944\n",
      "Epoch 43/100\n",
      "5/5 [==============================] - 0s 2ms/step - loss: 1.9333 - mse: 1.9333\n",
      "Epoch 44/100\n",
      "5/5 [==============================] - 0s 2ms/step - loss: 1.8368 - mse: 1.8368\n",
      "Epoch 45/100\n",
      "5/5 [==============================] - 0s 2ms/step - loss: 1.7195 - mse: 1.7195\n",
      "Epoch 46/100\n",
      "5/5 [==============================] - 0s 2ms/step - loss: 1.6269 - mse: 1.6269\n",
      "Epoch 47/100\n",
      "5/5 [==============================] - 0s 3ms/step - loss: 1.5395 - mse: 1.5395\n",
      "Epoch 48/100\n",
      "5/5 [==============================] - 0s 3ms/step - loss: 1.4591 - mse: 1.4591\n",
      "Epoch 49/100\n",
      "5/5 [==============================] - 0s 2ms/step - loss: 1.3787 - mse: 1.3787\n",
      "Epoch 50/100\n",
      "5/5 [==============================] - 0s 2ms/step - loss: 1.3034 - mse: 1.3034\n",
      "Epoch 51/100\n",
      "5/5 [==============================] - 0s 2ms/step - loss: 1.2285 - mse: 1.2285\n",
      "Epoch 52/100\n",
      "5/5 [==============================] - 0s 2ms/step - loss: 1.1584 - mse: 1.1584\n",
      "Epoch 53/100\n",
      "5/5 [==============================] - 0s 2ms/step - loss: 1.1122 - mse: 1.1122\n",
      "Epoch 54/100\n",
      "5/5 [==============================] - 0s 3ms/step - loss: 1.0737 - mse: 1.0737\n",
      "Epoch 55/100\n",
      "5/5 [==============================] - 0s 2ms/step - loss: 1.0131 - mse: 1.0131\n",
      "Epoch 56/100\n",
      "5/5 [==============================] - 0s 2ms/step - loss: 0.9743 - mse: 0.9743\n",
      "Epoch 57/100\n",
      "5/5 [==============================] - 0s 1ms/step - loss: 0.9346 - mse: 0.9346\n",
      "Epoch 58/100\n",
      "5/5 [==============================] - 0s 1ms/step - loss: 0.8974 - mse: 0.8974\n",
      "Epoch 59/100\n",
      "5/5 [==============================] - 0s 980us/step - loss: 0.8642 - mse: 0.8642\n",
      "Epoch 60/100\n",
      "5/5 [==============================] - 0s 2ms/step - loss: 0.8312 - mse: 0.8312\n",
      "Epoch 61/100\n",
      "5/5 [==============================] - 0s 1ms/step - loss: 0.8078 - mse: 0.8078\n",
      "Epoch 62/100\n",
      "5/5 [==============================] - 0s 2ms/step - loss: 0.7713 - mse: 0.7713\n",
      "Epoch 63/100\n",
      "5/5 [==============================] - 0s 2ms/step - loss: 0.7488 - mse: 0.7488\n",
      "Epoch 64/100\n",
      "5/5 [==============================] - 0s 2ms/step - loss: 0.7183 - mse: 0.7183\n",
      "Epoch 65/100\n",
      "5/5 [==============================] - 0s 2ms/step - loss: 0.6932 - mse: 0.6932\n",
      "Epoch 66/100\n",
      "5/5 [==============================] - 0s 2ms/step - loss: 0.6774 - mse: 0.6774\n",
      "Epoch 67/100\n",
      "5/5 [==============================] - 0s 2ms/step - loss: 0.6643 - mse: 0.6643\n",
      "Epoch 68/100\n",
      "5/5 [==============================] - 0s 2ms/step - loss: 0.6437 - mse: 0.6437\n",
      "Epoch 69/100\n",
      "5/5 [==============================] - 0s 2ms/step - loss: 0.6302 - mse: 0.6302\n",
      "Epoch 70/100\n",
      "5/5 [==============================] - 0s 2ms/step - loss: 0.6130 - mse: 0.6130\n",
      "Epoch 71/100\n",
      "5/5 [==============================] - 0s 2ms/step - loss: 0.5955 - mse: 0.5955\n",
      "Epoch 72/100\n",
      "5/5 [==============================] - 0s 1ms/step - loss: 0.5851 - mse: 0.5851\n",
      "Epoch 73/100\n",
      "5/5 [==============================] - 0s 2ms/step - loss: 0.5682 - mse: 0.5682\n",
      "Epoch 74/100\n",
      "5/5 [==============================] - 0s 2ms/step - loss: 0.5545 - mse: 0.5545\n",
      "Epoch 75/100\n",
      "5/5 [==============================] - 0s 3ms/step - loss: 0.5452 - mse: 0.5452\n",
      "Epoch 76/100\n",
      "5/5 [==============================] - 0s 3ms/step - loss: 0.5376 - mse: 0.5376\n",
      "Epoch 77/100\n",
      "5/5 [==============================] - 0s 3ms/step - loss: 0.5265 - mse: 0.5265\n",
      "Epoch 78/100\n",
      "5/5 [==============================] - 0s 2ms/step - loss: 0.5187 - mse: 0.5187\n",
      "Epoch 79/100\n",
      "5/5 [==============================] - 0s 1ms/step - loss: 0.5115 - mse: 0.5115\n",
      "Epoch 80/100\n",
      "5/5 [==============================] - 0s 2ms/step - loss: 0.5053 - mse: 0.5053\n",
      "Epoch 81/100\n",
      "5/5 [==============================] - 0s 2ms/step - loss: 0.4993 - mse: 0.4993\n",
      "Epoch 82/100\n",
      "5/5 [==============================] - 0s 1ms/step - loss: 0.4944 - mse: 0.4944\n",
      "Epoch 83/100\n",
      "5/5 [==============================] - 0s 1ms/step - loss: 0.4870 - mse: 0.4870\n",
      "Epoch 84/100\n",
      "5/5 [==============================] - 0s 2ms/step - loss: 0.4832 - mse: 0.4832\n",
      "Epoch 85/100\n",
      "5/5 [==============================] - 0s 1ms/step - loss: 0.4763 - mse: 0.4763\n",
      "Epoch 86/100\n"
     ]
    },
    {
     "name": "stdout",
     "output_type": "stream",
     "text": [
      "5/5 [==============================] - 0s 2ms/step - loss: 0.4683 - mse: 0.4683\n",
      "Epoch 87/100\n",
      "5/5 [==============================] - 0s 2ms/step - loss: 0.4636 - mse: 0.4636\n",
      "Epoch 88/100\n",
      "5/5 [==============================] - 0s 2ms/step - loss: 0.4591 - mse: 0.4591\n",
      "Epoch 89/100\n",
      "5/5 [==============================] - 0s 1ms/step - loss: 0.4566 - mse: 0.4566\n",
      "Epoch 90/100\n",
      "5/5 [==============================] - 0s 2ms/step - loss: 0.4538 - mse: 0.4538\n",
      "Epoch 91/100\n",
      "5/5 [==============================] - 0s 2ms/step - loss: 0.4496 - mse: 0.4496\n",
      "Epoch 92/100\n",
      "5/5 [==============================] - 0s 3ms/step - loss: 0.4474 - mse: 0.4474\n",
      "Epoch 93/100\n",
      "5/5 [==============================] - 0s 3ms/step - loss: 0.4451 - mse: 0.4451\n",
      "Epoch 94/100\n",
      "5/5 [==============================] - 0s 2ms/step - loss: 0.4436 - mse: 0.4436\n",
      "Epoch 95/100\n",
      "5/5 [==============================] - 0s 2ms/step - loss: 0.4411 - mse: 0.4411\n",
      "Epoch 96/100\n",
      "5/5 [==============================] - 0s 2ms/step - loss: 0.4397 - mse: 0.4397\n",
      "Epoch 97/100\n",
      "5/5 [==============================] - 0s 2ms/step - loss: 0.4371 - mse: 0.4371\n",
      "Epoch 98/100\n",
      "5/5 [==============================] - 0s 3ms/step - loss: 0.4357 - mse: 0.4357\n",
      "Epoch 99/100\n",
      "5/5 [==============================] - 0s 2ms/step - loss: 0.4343 - mse: 0.4343\n",
      "Epoch 100/100\n",
      "5/5 [==============================] - 0s 2ms/step - loss: 0.4330 - mse: 0.4330\n"
     ]
    },
    {
     "data": {
      "text/plain": [
       "<tensorflow.python.keras.callbacks.History at 0x21b42ef8970>"
      ]
     },
     "execution_count": 50,
     "metadata": {},
     "output_type": "execute_result"
    }
   ],
   "source": [
    "model.fit(x, y, epochs = 100)"
   ]
  },
  {
   "cell_type": "code",
   "execution_count": 51,
   "metadata": {},
   "outputs": [],
   "source": [
    "y_pred = model.predict(x)"
   ]
  },
  {
   "cell_type": "code",
   "execution_count": 52,
   "metadata": {},
   "outputs": [
    {
     "data": {
      "image/png": "[encoded data removed]",
      "text/plain": [
       "<Figure size 720x576 with 1 Axes>"
      ]
     },
     "metadata": {
      "needs_background": "light"
     },
     "output_type": "display_data"
    }
   ],
   "source": [
    "plt.figure(figsize = (10,8))\n",
    "\n",
    "plt.scatter(x, y, c = 'blue', label = 'Original Data')\n",
    "\n",
    "plt.plot(x, y_pred, color = 'r', label = 'Fitted Line')\n",
    "\n",
    "plt.title('Linear Regression')\n",
    "plt.legend()\n",
    "plt.show()"
   ]
  },
  {
   "cell_type": "code",
   "execution_count": null,
   "metadata": {},
   "outputs": [],
   "source": []
  }
 ],
 "metadata": {
  "kernelspec": {
   "display_name": "Python 3",
   "language": "python",
   "name": "python3"
  },
  "language_info": {
   "codemirror_mode": {
    "name": "ipython",
    "version": 3
   },
   "file_extension": ".py",
   "mimetype": "text/x-python",
   "name": "python",
   "nbconvert_exporter": "python",
   "pygments_lexer": "ipython3",
   "version": "3.8.3"
  }
 },
 "nbformat": 4,
 "nbformat_minor": 4
}
